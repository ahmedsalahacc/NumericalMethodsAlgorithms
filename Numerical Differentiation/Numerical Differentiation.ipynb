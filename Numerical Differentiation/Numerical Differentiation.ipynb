{
 "cells": [
  {
   "cell_type": "code",
   "execution_count": 56,
   "metadata": {},
   "outputs": [],
   "source": [
    "import timeit\n",
    "import math"
   ]
  },
  {
   "cell_type": "markdown",
   "metadata": {},
   "source": [
    "# Numerical Differentiation"
   ]
  },
  {
   "cell_type": "markdown",
   "metadata": {},
   "source": [
    "###### This section will show the implementation of the numerical differentiation in two methods, the two-points method, and the three-points methods"
   ]
  },
  {
   "attachments": {
    "image.png": {
     "image/png": "[encoded data removed]"
    }
   },
   "cell_type": "markdown",
   "metadata": {},
   "source": [
    "## Two-points method\n",
    "The equation that we want to configure is described as\n",
    "![image.png](attachment:image.png)\n",
    "We want to calculate the approximate derivative of the function based on the change between two points (Numerically)"
   ]
  },
  {
   "attachments": {
    "image.png": {
     "image/png": "[encoded data removed]"
    }
   },
   "cell_type": "markdown",
   "metadata": {},
   "source": [
    "## Three-points method\n",
    "The equation that we want to configure is described as\n",
    "![image.png](attachment:image.png)\n",
    "Our goal is to calculate the approximate derivative of the function based on the change between three points (Numerically)"
   ]
  },
  {
   "cell_type": "markdown",
   "metadata": {},
   "source": [
    "### Note that:\n",
    "In both methods, the value that you want to calculate should be the middle value(in odd size) or the ceil of the average of even-sized array"
   ]
  },
  {
   "cell_type": "code",
   "execution_count": 49,
   "metadata": {},
   "outputs": [],
   "source": [
    "class Derivative:\n",
    "    def __init__(self, data=None):\n",
    "        self.data = data\n",
    "        self.is_accepted_2pnts = False\n",
    "        self.is_accepted_3pnts = False\n",
    "        self._configure_acceptance()\n",
    "    def _configure_acceptance(self):\n",
    "        if self.data == None:\n",
    "            return\n",
    "        elif len(self.data)>=2:\n",
    "            self.is_accepted_2pnts = True\n",
    "        if len(self.data)>=3:\n",
    "            self.is_accepted_3pnts = True\n",
    "    def differentiate_2pnts(self,func_address):\n",
    "        if not self.is_accepted_2pnts:\n",
    "            raise ValueError(\"array size less than 2\")\n",
    "        middle_val = self._get_centered_val()\n",
    "        foreval = self.data[self.data.index(middle_val)-1]\n",
    "        h = middle_val-foreval\n",
    "        return (func_address(middle_val)-func_address(foreval))/h\n",
    "    def differentiate_3pnts(self,func_address):\n",
    "        if not self.is_accepted_3pnts:\n",
    "            raise ValueError(\"array size less than 3\")\n",
    "        middle_val = self._get_centered_val()\n",
    "        nxtval = self.data[self.data.index(middle_val)+1] \n",
    "        h = nxtval-middle_val\n",
    "        anxtval = middle_val+2*h\n",
    "        return (1/(2*h))*(-3*func_address(middle_val)+4*func_address(nxtval)-func_address(anxtval))\n",
    "    def _get_centered_val(self):\n",
    "        return self.data[math.floor(len(self.data)/2)]"
   ]
  },
  {
   "cell_type": "code",
   "execution_count": 63,
   "metadata": {},
   "outputs": [
    {
     "name": "stdout",
     "output_type": "stream",
     "text": [
      "Analytical value: 6\n",
      "2-pnts: 5.0\n",
      "3-pnts: 6.0\n",
      "################################################\n",
      "1.35 µs ± 22.3 ns per loop (mean ± std. dev. of 7 runs, 1000000 loops each)\n",
      "1.79 µs ± 33.8 ns per loop (mean ± std. dev. of 7 runs, 1000000 loops each)\n"
     ]
    }
   ],
   "source": [
    "diff = Derivative([1,2,3,4])\n",
    "print(\"Analytical value:\",6)\n",
    "print(\"2-pnts:\",diff.differentiate_2pnts(lambda x:x**2))\n",
    "print(\"3-pnts:\",diff.differentiate_3pnts(lambda x:x**2))\n",
    "print(\"################################################\")\n",
    "%timeit diff.differentiate_2pnts(lambda x:x**2)\n",
    "%timeit diff.differentiate_3pnts(lambda x:x**2)"
   ]
  },
  {
   "cell_type": "markdown",
   "metadata": {},
   "source": [
    "### Hence, we conclude that the more the pnts used in the numerical method, the better gets the accuracy"
   ]
  }
 ],
 "metadata": {
  "kernelspec": {
   "display_name": "Python 3",
   "language": "python",
   "name": "python3"
  },
  "language_info": {
   "codemirror_mode": {
    "name": "ipython",
    "version": 3
   },
   "file_extension": ".py",
   "mimetype": "text/x-python",
   "name": "python",
   "nbconvert_exporter": "python",
   "pygments_lexer": "ipython3",
   "version": "3.7.3"
  }
 },
 "nbformat": 4,
 "nbformat_minor": 2
}
