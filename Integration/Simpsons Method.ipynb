{
 "cells": [
  {
   "cell_type": "code",
   "execution_count": 1,
   "metadata": {},
   "outputs": [],
   "source": [
    "import math"
   ]
  },
  {
   "cell_type": "code",
   "execution_count": 51,
   "metadata": {},
   "outputs": [],
   "source": [
    "class Simpson:\n",
    "    def __init__(self):\n",
    "        self.funcs = {}\n",
    "        \n",
    "    def add_func(self,func_name,func_address):\n",
    "        self.funcs[func_name] = func_address\n",
    "        \n",
    "    def calculate_integral(self,func_name,x1,xn,divisions=5):\n",
    "        ins = self.funcs[func_name](x1)+self.funcs[func_name](xn)\n",
    "        evens = 0\n",
    "        odds = 0\n",
    "        rng = []\n",
    "        height = abs((xn-x1)/divisions)\n",
    "        cursor = 0\n",
    "        while cursor != divisions-1:\n",
    "            cursor+=1\n",
    "            x1=x1+height\n",
    "            if cursor%2 == 0:\n",
    "                evens+=self.funcs[func_name](x1)\n",
    "            else:\n",
    "                odds+=self.funcs[func_name](x1)\n",
    "        return (height/3)*(ins+4*odds+2*evens)"
   ]
  },
  {
   "cell_type": "code",
   "execution_count": 52,
   "metadata": {},
   "outputs": [],
   "source": [
    "integral = Simpson()"
   ]
  },
  {
   "cell_type": "code",
   "execution_count": 88,
   "metadata": {},
   "outputs": [],
   "source": [
    "def cubic(x):\n",
    "    return x**3\n",
    "def root(x):\n",
    "    return x**0.5\n",
    "def reciprocal_x(x):\n",
    "    return 1/x\n",
    "integral.add_func(\"cubic\",cubic)\n",
    "integral.add_func(\"root\",root)\n",
    "integral.add_func(\"exp\",math.exp)\n",
    "integral.add_func(\"reciprocal_x\",reciprocal_x)"
   ]
  },
  {
   "cell_type": "code",
   "execution_count": 66,
   "metadata": {},
   "outputs": [
    {
     "data": {
      "text/plain": [
       "3.2512000000000008"
      ]
     },
     "execution_count": 66,
     "metadata": {},
     "output_type": "execute_result"
    }
   ],
   "source": [
    "integral.calculate_integral(\"cubic\",0,2,5)"
   ]
  },
  {
   "cell_type": "code",
   "execution_count": 67,
   "metadata": {},
   "outputs": [],
   "source": [
    "def err(x,y):\n",
    "    return abs(x-y)*100/x"
   ]
  },
  {
   "cell_type": "code",
   "execution_count": 68,
   "metadata": {},
   "outputs": [
    {
     "data": {
      "text/plain": [
       "18.71999999999998"
      ]
     },
     "execution_count": 68,
     "metadata": {},
     "output_type": "execute_result"
    }
   ],
   "source": [
    "err(4,integral.calculate_integral(\"cubic\",0,2,5))"
   ]
  },
  {
   "cell_type": "code",
   "execution_count": 80,
   "metadata": {},
   "outputs": [
    {
     "data": {
      "text/plain": [
       "13.487458838062574"
      ]
     },
     "execution_count": 80,
     "metadata": {},
     "output_type": "execute_result"
    }
   ],
   "source": [
    "integral.calculate_integral(\"root\",0,8,5)"
   ]
  },
  {
   "cell_type": "code",
   "execution_count": 82,
   "metadata": {},
   "outputs": [
    {
     "data": {
      "text/plain": [
       "10.59026292301907"
      ]
     },
     "execution_count": 82,
     "metadata": {},
     "output_type": "execute_result"
    }
   ],
   "source": [
    "err(15.085,integral.calculate_integral(\"root\",0,8,5))"
   ]
  },
  {
   "cell_type": "code",
   "execution_count": 84,
   "metadata": {},
   "outputs": [
    {
     "data": {
      "text/plain": [
       "1.7182827819248236"
      ]
     },
     "execution_count": 84,
     "metadata": {},
     "output_type": "execute_result"
    }
   ],
   "source": [
    "integral.calculate_integral(\"exp\",0,1,10)"
   ]
  },
  {
   "cell_type": "code",
   "execution_count": 87,
   "metadata": {},
   "outputs": [
    {
     "data": {
      "text/plain": [
       "5.548948739146394e-05"
      ]
     },
     "execution_count": 87,
     "metadata": {},
     "output_type": "execute_result"
    }
   ],
   "source": [
    "err(math.exp(1)-1,integral.calculate_integral(\"exp\",0,1,10))"
   ]
  },
  {
   "cell_type": "code",
   "execution_count": 90,
   "metadata": {},
   "outputs": [
    {
     "data": {
      "text/plain": [
       "0.6931545306545306"
      ]
     },
     "execution_count": 90,
     "metadata": {},
     "output_type": "execute_result"
    }
   ],
   "source": [
    "integral.calculate_integral(\"reciprocal_x\",1,2,8)"
   ]
  },
  {
   "cell_type": "code",
   "execution_count": 91,
   "metadata": {},
   "outputs": [
    {
     "data": {
      "text/plain": [
       "0.001060394500827874"
      ]
     },
     "execution_count": 91,
     "metadata": {},
     "output_type": "execute_result"
    }
   ],
   "source": [
    "err(math.log(2),integral.calculate_integral(\"reciprocal_x\",1,2,8))"
   ]
  },
  {
   "cell_type": "code",
   "execution_count": null,
   "metadata": {},
   "outputs": [],
   "source": []
  }
 ],
 "metadata": {
  "kernelspec": {
   "display_name": "Python 3",
   "language": "python",
   "name": "python3"
  },
  "language_info": {
   "codemirror_mode": {
    "name": "ipython",
    "version": 3
   },
   "file_extension": ".py",
   "mimetype": "text/x-python",
   "name": "python",
   "nbconvert_exporter": "python",
   "pygments_lexer": "ipython3",
   "version": "3.7.3"
  }
 },
 "nbformat": 4,
 "nbformat_minor": 2
}
