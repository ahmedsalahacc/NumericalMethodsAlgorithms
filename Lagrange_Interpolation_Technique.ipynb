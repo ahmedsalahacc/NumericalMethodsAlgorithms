{
 "cells": [
  {
   "cell_type": "markdown",
   "metadata": {},
   "source": [
    "<h1> Lagrange Interpolation Technique </h1>"
   ]
  },
  {
   "cell_type": "code",
   "execution_count": 33,
   "metadata": {},
   "outputs": [],
   "source": [
    "class Lagrange(object):\n",
    "    \n",
    "    def __init__(self):\n",
    "        \"\"\"\n",
    "        We need to set the parameters of the class to satisfy the conditions in the equation\n",
    "        Note that:\n",
    "        'X' represents the values of x in the x axis\n",
    "        'y' represents the values of y in the y axis\n",
    "        'value' represents the value to get fro interpolation\n",
    "        'divs' represents the denomenator of lagrange \n",
    "        \"\"\"\n",
    "        self.X = None\n",
    "        self.y = None\n",
    "        self.value = None\n",
    "        self.divs = []\n",
    "        self.origins = []\n",
    "        self.results = []\n",
    "        self.output = None\n",
    "        self.xarr = []\n",
    "        self.valarr = []\n",
    "        Sum = None\n",
    "        \n",
    "    def setValue(self): self.value = float(input(\"Value: \"))\n",
    "    \n",
    "    def setData(self,X,y):\n",
    "        \n",
    "        self.origins.append(X)\n",
    "        self.origins.append(y)\n",
    "        self.X = X\n",
    "        self.y = y\n",
    "        \n",
    "    def _Sum(self,results):\n",
    "        \n",
    "        return sum(results)\n",
    "    \n",
    "    def getOutput(self):\n",
    "        \n",
    "        self.setValue()\n",
    "            \n",
    "        if self.value in self.X: return self.y[self.X.index(self.value)]\n",
    "        \n",
    "        if self.X ==None or self.y == None: raise ValueError(\"Please provide both arrays of data (X and y)\")\n",
    "            \n",
    "        for i in range(len(self.X)):\n",
    "            prod = 1\n",
    "            ups = 1\n",
    "            for j in range(len(self.X)):\n",
    "                if self.X[j] == self.X[i]: continue\n",
    "                prod*=(self.X[i]-self.X[j])\n",
    "                ups*=(self.value-self.X[j])\n",
    "            self.divs.append(prod)\n",
    "            self.results.append((ups*self.y[i])/self.divs[i])\n",
    "            \n",
    "        import numpy as np\n",
    "        self.output = self._Sum(self.results)\n",
    "        self.X.append(self.value)\n",
    "        self.y.append(self.output)\n",
    "        \n",
    "        if self.value< max(self.X):\n",
    "            args = np.argsort(self.X)\n",
    "            temp = []\n",
    "            for i in args:\n",
    "                temp.append(self.y[i])\n",
    "            \n",
    "            self.X = sorted(self.X)\n",
    "            self.y = temp\n",
    "        self.xarr.append(self.value)\n",
    "        self.valarr.append(self.output)\n",
    "        return self.output"
   ]
  },
  {
   "cell_type": "code",
   "execution_count": 34,
   "metadata": {},
   "outputs": [],
   "source": [
    "lagrange = Lagrange()"
   ]
  },
  {
   "cell_type": "code",
   "execution_count": 35,
   "metadata": {},
   "outputs": [],
   "source": [
    "from math import exp\n",
    "xaxis = []\n",
    "for i in range(100):\n",
    "    base = 0\n",
    "    xaxis.append(base)\n",
    "    base+=0.5\n",
    "yaxis = [exp(i) for i in xaxis]"
   ]
  },
  {
   "cell_type": "code",
   "execution_count": 36,
   "metadata": {},
   "outputs": [],
   "source": [
    "a = [i for i in range(20)]\n",
    "b = [pow(i,2) for i in a]"
   ]
  },
  {
   "cell_type": "code",
   "execution_count": 37,
   "metadata": {},
   "outputs": [],
   "source": [
    "lagrange.setData(a,b)"
   ]
  },
  {
   "cell_type": "code",
   "execution_count": 38,
   "metadata": {},
   "outputs": [
    {
     "name": "stdout",
     "output_type": "stream",
     "text": [
      "Value: 21\n"
     ]
    },
    {
     "data": {
      "text/plain": [
       "441.0000000074506"
      ]
     },
     "execution_count": 38,
     "metadata": {},
     "output_type": "execute_result"
    }
   ],
   "source": [
    "lagrange.getOutput()"
   ]
  },
  {
   "cell_type": "code",
   "execution_count": 39,
   "metadata": {
    "scrolled": true
   },
   "outputs": [
    {
     "data": {
      "text/plain": [
       "[0, 1, 2, 3, 4, 5, 6, 7, 8, 9, 10, 11, 12, 13, 14, 15, 16, 17, 18, 19, 21.0]"
      ]
     },
     "execution_count": 39,
     "metadata": {},
     "output_type": "execute_result"
    }
   ],
   "source": [
    "lagrange.X"
   ]
  },
  {
   "cell_type": "code",
   "execution_count": 40,
   "metadata": {},
   "outputs": [
    {
     "data": {
      "text/plain": [
       "[0,\n",
       " 1,\n",
       " 4,\n",
       " 9,\n",
       " 16,\n",
       " 25,\n",
       " 36,\n",
       " 49,\n",
       " 64,\n",
       " 81,\n",
       " 100,\n",
       " 121,\n",
       " 144,\n",
       " 169,\n",
       " 196,\n",
       " 225,\n",
       " 256,\n",
       " 289,\n",
       " 324,\n",
       " 361,\n",
       " 441.0000000074506]"
      ]
     },
     "execution_count": 40,
     "metadata": {},
     "output_type": "execute_result"
    }
   ],
   "source": [
    "lagrange.y"
   ]
  },
  {
   "cell_type": "code",
   "execution_count": 41,
   "metadata": {
    "scrolled": true
   },
   "outputs": [
    {
     "data": {
      "image/png": "[encoded data removed]",
      "text/plain": [
       "<Figure size 432x288 with 1 Axes>"
      ]
     },
     "metadata": {
      "needs_background": "light"
     },
     "output_type": "display_data"
    }
   ],
   "source": [
    "import matplotlib.pyplot as plt\n",
    "plt.title(\"Lagrange interpolation\")\n",
    "plt.xlabel(\"X\")\n",
    "plt.ylabel(\"Y\")\n",
    "plt.scatter(lagrange.origins[0],lagrange.origins[1],color = 'red')\n",
    "plt.scatter(lagrange.xarr,lagrange.valarr,color = \"green\")\n",
    "plt.plot(lagrange.X,lagrange.y)\n",
    "plt.show()"
   ]
  },
  {
   "cell_type": "code",
   "execution_count": 45,
   "metadata": {},
   "outputs": [],
   "source": [
    "import numpy as np\n",
    "import pandas as pd\n",
    "df = pd.read_csv(\"data.csv\")\n",
    "data_X = df.iloc[:,-1].values\n",
    "data_y = df.iloc[:,1].values\n",
    "data_y = [int(i/10000) for i in data_y]\n",
    "from sklearn.model_selection import train_test_split\n",
    "X_train, X_test, y_train, y_test = train_test_split(data_X, data_y, test_size = 1/3, random_state = 0)\n",
    "X_train = [i for i in X_train]\n",
    "y_train = [i for i in y_train]\n",
    "poly = Lagrange()\n",
    "poly.setData(X_train,y_train)"
   ]
  }
 ],
 "metadata": {
  "kernelspec": {
   "display_name": "Python 3",
   "language": "python",
   "name": "python3"
  },
  "language_info": {
   "codemirror_mode": {
    "name": "ipython",
    "version": 3
   },
   "file_extension": ".py",
   "mimetype": "text/x-python",
   "name": "python",
   "nbconvert_exporter": "python",
   "pygments_lexer": "ipython3",
   "version": "3.7.3"
  }
 },
 "nbformat": 4,
 "nbformat_minor": 2
}
