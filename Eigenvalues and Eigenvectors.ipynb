{
 "cells": [
  {
   "cell_type": "code",
   "execution_count": 1,
   "metadata": {},
   "outputs": [],
   "source": [
    "import numpy as np\n",
    "import math"
   ]
  },
  {
   "cell_type": "markdown",
   "metadata": {},
   "source": [
    "# Eigenvalues and Eigenvectors Solver class\n",
    "\n",
    "### Note That\n",
    "<p> The class can solve for any number of dimentions</p>\n",
    "\n",
    "### How to use\n",
    "<ol>\n",
    "    <li> set instance of the class and the constructor must have 2 arguments (dimention (number of rows or columns),accuracy)  \n",
    "    <p> <strong>Directions</strong>: square_n: the dimentions of the square matrix (ex: \"square_n=2\" if (2 x 2) square matrix)\n",
    "        accuracy: the accuracy to which you want to approach\n",
    "        <br>\n",
    "        ex:- accuracy = 2 => accuracy to 2 decimal places</p>\n",
    "    </li>\n",
    "    <br>\n",
    "    <li>\n",
    "        <div>eigen = Eigen(3,2)</div>\n",
    "        <br>\n",
    "        <div>val_arr = [2,1,1,2,3,2,1,1,2]  #input can be array</div>\n",
    "        <div>eigen.input_matrix(val_arr) if the constructor has dimension or</div>\n",
    "        <br>\n",
    "        <div>eigen.input_matrix(2,1,1,2,3,2,1,1,2) if the constructor has dimension or</div>\n",
    "        <br>\n",
    "        <div>eigen.input_matrix(2,1,1,2,3,2,1,1,2,n=3) if the constructor doesn't have the dimension</div>\n",
    "    </li>\n",
    "    <br>\n",
    "    <li>\n",
    "        eigen.calculate() to calculate eigen values and eigen vectors\n",
    "    </li>"
   ]
  },
  {
   "cell_type": "code",
   "execution_count": 2,
   "metadata": {},
   "outputs": [],
   "source": [
    "class Eigen:\n",
    "    def __init__(self,square_n,accuracy):\n",
    "        \"\"\"\n",
    "        square_n: the dimentions of the square matrix (ex: \"square_n=2\" if (2 x 2) square matrix)\n",
    "        accuracy: the accuracy to which you want to approach\n",
    "        ex:- accuracy = 2 => accuracy to 2 decimal places\n",
    "        \"\"\"\n",
    "        self.n = square_n\n",
    "        self.A = None  # matrix A\n",
    "        self.v = np.ones(self.n).astype(float).reshape(self.n,1)  # matrix v\n",
    "        self.accuracy = accuracy  #setting accuracy\n",
    "        self.eigen_value = None  # current Eigenvalue\n",
    "        self.eigen_vector = None  # current Eigenvector\n",
    "        self.prev_val = 0\n",
    "        \n",
    "    #Matrix input\n",
    "    def input_matrix(self,*args,n=None):\n",
    "        if n==None: n = self.n\n",
    "        if len(args) != pow(n,2):\n",
    "            print(len(args),n)\n",
    "            raise ValueError(\"the array arguments must have the same size of the square array i.e (for n^2 arguments for nxn matrix)\")\n",
    "        elif n!=self.n:\n",
    "            self.n = n\n",
    "            self.v = np.ones(n).astype(float).reshape(n,1)\n",
    "        count = 0\n",
    "        string = \"\"\n",
    "        for i in args:\n",
    "            count+=1\n",
    "            if count == n:\n",
    "                count =0\n",
    "                string+=f\" {i}; \"\n",
    "            else:\n",
    "                string+=f\" {i} \"\n",
    "        string = string[:-2]\n",
    "        self.A =  np.matrix(string).astype(float)\n",
    "        print(self.A)\n",
    "        \n",
    "    # calculation method\n",
    "    def calculate(self):\n",
    "        iteration = 1\n",
    "        self._calculateEigenVector()\n",
    "        self._calculateEigenValue()\n",
    "        print(f\"iteration {iteration}\\neigen value: {self.eigen_value} \\neigen_vector: {self.eigen_vector}\")\n",
    "        while(math.fabs(self.eigen_value -self.prev_val)>pow(10,-self.accuracy)):\n",
    "            print(\"################################\")\n",
    "            iteration+=1\n",
    "            self.prev_val = self.eigen_value\n",
    "            self._calculateEigenVector()\n",
    "            self._calculateEigenValue()\n",
    "            print(f\"iteration {iteration}\\neigen value: {self.eigen_value} \\neigen_vector: {self.eigen_vector}\")\n",
    "        return self.eigen_value,self.eigen_vector\n",
    "            \n",
    "    #Calculate Eigenvector\n",
    "    def _calculateEigenVector(self):\n",
    "        \"\"\"\n",
    "        Viter(n+1) = A.V(iter(n))\n",
    "        \"\"\"\n",
    "        self.v = self.A.dot(self.v)\n",
    "        self.v = self.v/self.v[1,0]\n",
    "        self.eigen_vector = self.v\n",
    "        return self.eigen_vector\n",
    "    \n",
    "    #Calculate Eigenvalue\n",
    "    def _calculateEigenValue(self):\n",
    "        \"\"\"\n",
    "        numenator = (transpose(A.v)).v\n",
    "        denomenator = transpose(v).v\n",
    "        EigenValue = numenator/denomenator\n",
    "        \"\"\"\n",
    "        self.eigen_value = ((self.A.dot(self.v)).transpose().dot(self.v))/self.v.transpose().dot(self.v)[0,0]\n",
    "        return self.eigen_value"
   ]
  },
  {
   "cell_type": "markdown",
   "metadata": {},
   "source": [
    "## Example on 2D Matrix"
   ]
  },
  {
   "cell_type": "code",
   "execution_count": 3,
   "metadata": {},
   "outputs": [],
   "source": [
    "eigen = Eigen(2,2)"
   ]
  },
  {
   "cell_type": "code",
   "execution_count": 4,
   "metadata": {},
   "outputs": [
    {
     "name": "stdout",
     "output_type": "stream",
     "text": [
      "[[5. 4.]\n",
      " [1. 2.]]\n"
     ]
    }
   ],
   "source": [
    "eigen.input_matrix(5,4,1,2)"
   ]
  },
  {
   "cell_type": "code",
   "execution_count": 5,
   "metadata": {
    "scrolled": false
   },
   "outputs": [
    {
     "name": "stdout",
     "output_type": "stream",
     "text": [
      "iteration 1\n",
      "eigen value: [[6.2]] \n",
      "eigen_vector: [[3.]\n",
      " [1.]]\n",
      "################################\n",
      "iteration 2\n",
      "eigen value: [[6.03626943]] \n",
      "eigen_vector: [[3.8]\n",
      " [1. ]]\n",
      "################################\n",
      "iteration 3\n",
      "eigen value: [[6.00611403]] \n",
      "eigen_vector: [[3.96551724]\n",
      " [1.        ]]\n",
      "################################\n",
      "iteration 4\n",
      "eigen value: [[6.00102087]] \n",
      "eigen_vector: [[3.99421965]\n",
      " [1.        ]]\n"
     ]
    },
    {
     "data": {
      "text/plain": [
       "(matrix([[6.00102087]]), matrix([[3.99421965],\n",
       "         [1.        ]]))"
      ]
     },
     "execution_count": 5,
     "metadata": {},
     "output_type": "execute_result"
    }
   ],
   "source": [
    "eigen.calculate()"
   ]
  },
  {
   "cell_type": "markdown",
   "metadata": {},
   "source": [
    "## Example on 3D Matrix"
   ]
  },
  {
   "cell_type": "code",
   "execution_count": 6,
   "metadata": {},
   "outputs": [
    {
     "name": "stdout",
     "output_type": "stream",
     "text": [
      "[[2. 1. 1.]\n",
      " [2. 3. 2.]\n",
      " [1. 1. 2.]]\n"
     ]
    }
   ],
   "source": [
    "eigen.input_matrix(2,1,1,2,3,2,1,1,2,n=3)"
   ]
  },
  {
   "cell_type": "code",
   "execution_count": 7,
   "metadata": {},
   "outputs": [
    {
     "name": "stdout",
     "output_type": "stream",
     "text": [
      "iteration 1\n",
      "eigen value: [[5.07407407]] \n",
      "eigen_vector: [[0.57142857]\n",
      " [1.        ]\n",
      " [0.57142857]]\n",
      "################################\n",
      "iteration 2\n",
      "eigen value: [[5.01721664]] \n",
      "eigen_vector: [[0.51351351]\n",
      " [1.        ]\n",
      " [0.51351351]]\n",
      "################################\n",
      "iteration 3\n",
      "eigen value: [[5.00353337]] \n",
      "eigen_vector: [[0.5026738]\n",
      " [1.       ]\n",
      " [0.5026738]]\n",
      "################################\n",
      "iteration 4\n",
      "eigen value: [[5.00071023]] \n",
      "eigen_vector: [[0.50053362]\n",
      " [1.        ]\n",
      " [0.50053362]]\n"
     ]
    },
    {
     "data": {
      "text/plain": [
       "(matrix([[5.00071023]]), matrix([[0.50053362],\n",
       "         [1.        ],\n",
       "         [0.50053362]]))"
      ]
     },
     "execution_count": 7,
     "metadata": {},
     "output_type": "execute_result"
    }
   ],
   "source": [
    "eigen.calculate()"
   ]
  }
 ],
 "metadata": {
  "kernelspec": {
   "display_name": "Python 3",
   "language": "python",
   "name": "python3"
  },
  "language_info": {
   "codemirror_mode": {
    "name": "ipython",
    "version": 3
   },
   "file_extension": ".py",
   "mimetype": "text/x-python",
   "name": "python",
   "nbconvert_exporter": "python",
   "pygments_lexer": "ipython3",
   "version": "3.7.3"
  }
 },
 "nbformat": 4,
 "nbformat_minor": 2
}
