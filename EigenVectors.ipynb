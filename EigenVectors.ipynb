{
 "cells": [
  {
   "cell_type": "code",
   "execution_count": 1,
   "metadata": {},
   "outputs": [],
   "source": [
    "import numpy as np\n",
    "import math"
   ]
  },
  {
   "cell_type": "code",
   "execution_count": 2,
   "metadata": {},
   "outputs": [],
   "source": [
    "class Eigen:\n",
    "    def __init__(self,a,b,c,d,accuracy):\n",
    "        \"\"\"\n",
    "        a,b,c,d: Elements of a 2x2 square matrix\n",
    "        accuracy: the accuracy to which you want to approach\n",
    "        ex:- accuracy = 2 => accuracy to 2 decimal places\n",
    "        \"\"\"\n",
    "        self.A = np.matrix(f\"{a} {b};{c} {d}\").astype(float)  # matrix A\n",
    "        self.v = np.ones(2).astype(float).reshape(2,1)  # matrix v\n",
    "        self.accuracy = accuracy  #setting accuracy\n",
    "        self.eigen_value = None  # current Eigenvalue\n",
    "        self.eigen_vector = None  # current Eigenvector\n",
    "        self.prev_val = 0\n",
    "        \n",
    "    # calculation method\n",
    "    def calculate(self):\n",
    "        iteration = 1\n",
    "        self._calculateEigenVector()\n",
    "        self._calculateEigenValue()\n",
    "        print(f\"iteration {iteration}\\neigen value: {self.eigen_value} \\neigen_vector: {self.eigen_vector}\")\n",
    "        while(math.fabs(self.eigen_value -self.prev_val)>pow(10,-self.accuracy)):\n",
    "            print(\"################################\")\n",
    "            iteration+=1\n",
    "            self.prev_val = self.eigen_value\n",
    "            self._calculateEigenVector()\n",
    "            self._calculateEigenValue()\n",
    "            print(f\"iteration {iteration}\\neigen value: {self.eigen_value} \\neigen_vector: {self.eigen_vector}\")\n",
    "        return self.eigen_value,self.eigen_vector\n",
    "            \n",
    "    #Calculate Eigenvector\n",
    "    def _calculateEigenVector(self):\n",
    "        \"\"\"\n",
    "        Viter(n+1) = A.V(iter(n))\n",
    "        \"\"\"\n",
    "        self.v = self.A.dot(self.v)\n",
    "        self.v = self.v/self.v[1,0]\n",
    "        self.eigen_vector = self.v\n",
    "        return self.eigen_vector\n",
    "    \n",
    "    #Calculate Eigenvalue\n",
    "    def _calculateEigenValue(self):\n",
    "        \"\"\"\n",
    "        numenator = (transpose(A.v)).v\n",
    "        denomenator = transpose(v).v\n",
    "        EigenValue = numenator/denomenator\n",
    "        \"\"\"\n",
    "        self.eigen_value = ((self.A.dot(self.v)).transpose().dot(self.v))/self.v.transpose().dot(self.v)[0,0]\n",
    "        return self.eigen_value"
   ]
  },
  {
   "cell_type": "code",
   "execution_count": 3,
   "metadata": {},
   "outputs": [],
   "source": [
    "o = Eigen(5,4,1,2,accuracy = 2)"
   ]
  },
  {
   "cell_type": "code",
   "execution_count": 4,
   "metadata": {},
   "outputs": [
    {
     "name": "stdout",
     "output_type": "stream",
     "text": [
      "iteration 1\n",
      "eigen value: [[6.2]] \n",
      "eigen_vector: [[3.]\n",
      " [1.]]\n",
      "################################\n",
      "iteration 2\n",
      "eigen value: [[6.03626943]] \n",
      "eigen_vector: [[3.8]\n",
      " [1. ]]\n",
      "################################\n",
      "iteration 3\n",
      "eigen value: [[6.00611403]] \n",
      "eigen_vector: [[3.96551724]\n",
      " [1.        ]]\n",
      "################################\n",
      "iteration 4\n",
      "eigen value: [[6.00102087]] \n",
      "eigen_vector: [[3.99421965]\n",
      " [1.        ]]\n"
     ]
    },
    {
     "data": {
      "text/plain": [
       "(matrix([[6.00102087]]), matrix([[3.99421965],\n",
       "         [1.        ]]))"
      ]
     },
     "execution_count": 4,
     "metadata": {},
     "output_type": "execute_result"
    }
   ],
   "source": [
    "o.calculate()"
   ]
  },
  {
   "cell_type": "code",
   "execution_count": 5,
   "metadata": {},
   "outputs": [
    {
     "name": "stdout",
     "output_type": "stream",
     "text": [
      "iteration 1\n",
      "eigen value: [[4.]] \n",
      "eigen_vector: [[0.]\n",
      " [1.]]\n",
      "################################\n",
      "iteration 2\n",
      "eigen value: [[3.58823529]] \n",
      "eigen_vector: [[-0.25]\n",
      " [ 1.  ]]\n",
      "################################\n",
      "iteration 3\n",
      "eigen value: [[3.3438914]] \n",
      "eigen_vector: [[-0.35714286]\n",
      " [ 1.        ]]\n",
      "################################\n",
      "iteration 4\n",
      "eigen value: [[3.20993137]] \n",
      "eigen_vector: [[-0.41304348]\n",
      " [ 1.        ]]\n",
      "################################\n",
      "iteration 5\n",
      "eigen value: [[3.13217963]] \n",
      "eigen_vector: [[-0.44520548]\n",
      " [ 1.        ]]\n",
      "################################\n",
      "iteration 6\n",
      "eigen value: [[3.08490367]] \n",
      "eigen_vector: [[-0.46475771]\n",
      " [ 1.        ]]\n",
      "################################\n",
      "iteration 7\n",
      "eigen value: [[3.05524131]] \n",
      "eigen_vector: [[-0.47704448]\n",
      " [ 1.        ]]\n",
      "################################\n",
      "iteration 8\n",
      "eigen value: [[3.03624215]] \n",
      "eigen_vector: [[-0.48492699]\n",
      " [ 1.        ]]\n",
      "################################\n",
      "iteration 9\n",
      "eigen value: [[3.0239069]] \n",
      "eigen_vector: [[-0.4900513]\n",
      " [ 1.       ]]\n",
      "################################\n",
      "iteration 10\n",
      "eigen value: [[3.01582646]] \n",
      "eigen_vector: [[-0.49341123]\n",
      " [ 1.        ]]\n",
      "################################\n",
      "iteration 11\n",
      "eigen value: [[3.01050191]] \n",
      "eigen_vector: [[-0.4956267]\n",
      " [ 1.       ]]\n",
      "################################\n",
      "iteration 12\n",
      "eigen value: [[3.00697961]] \n",
      "eigen_vector: [[-0.49709294]\n",
      " [ 1.        ]]\n",
      "################################\n",
      "iteration 13\n",
      "eigen value: [[3.00464348]] \n",
      "eigen_vector: [[-0.49806571]\n",
      " [ 1.        ]]\n",
      "################################\n",
      "iteration 14\n",
      "eigen value: [[3.00309141]] \n",
      "eigen_vector: [[-0.49871213]\n",
      " [ 1.        ]]\n",
      "################################\n",
      "iteration 15\n",
      "eigen value: [[3.00205905]] \n",
      "eigen_vector: [[-0.49914216]\n",
      " [ 1.        ]]\n",
      "################################\n",
      "iteration 16\n",
      "eigen value: [[3.00137187]] \n",
      "eigen_vector: [[-0.49942843]\n",
      " [ 1.        ]]\n"
     ]
    },
    {
     "data": {
      "text/plain": [
       "(matrix([[3.00137187]]), matrix([[-0.49942843],\n",
       "         [ 1.        ]]))"
      ]
     },
     "execution_count": 5,
     "metadata": {},
     "output_type": "execute_result"
    }
   ],
   "source": [
    "#Assignment 3 page 13 a\n",
    "p13a = Eigen(1,-1,2,4,accuracy = 3)\n",
    "p13a.calculate()"
   ]
  },
  {
   "cell_type": "code",
   "execution_count": 6,
   "metadata": {},
   "outputs": [
    {
     "name": "stdout",
     "output_type": "stream",
     "text": [
      "iteration 1\n",
      "eigen value: [[5.2]] \n",
      "eigen_vector: [[-3.]\n",
      " [ 1.]]\n",
      "################################\n",
      "iteration 2\n",
      "eigen value: [[4.59459459]] \n",
      "eigen_vector: [[-1.4]\n",
      " [ 1. ]]\n",
      "################################\n",
      "iteration 3\n",
      "eigen value: [[4.27411168]] \n",
      "eigen_vector: [[-1.15384615]\n",
      " [ 1.        ]]\n",
      "################################\n",
      "iteration 4\n",
      "eigen value: [[4.13096559]] \n",
      "eigen_vector: [[-1.06896552]\n",
      " [ 1.        ]]\n",
      "################################\n",
      "iteration 5\n",
      "eigen value: [[4.06397919]] \n",
      "eigen_vector: [[-1.03278689]\n",
      " [ 1.        ]]\n",
      "################################\n",
      "iteration 6\n",
      "eigen value: [[4.03161806]] \n",
      "eigen_vector: [[-1.016]\n",
      " [ 1.   ]]\n",
      "################################\n",
      "iteration 7\n",
      "eigen value: [[4.01571679]] \n",
      "eigen_vector: [[-1.00790514]\n",
      " [ 1.        ]]\n",
      "################################\n",
      "iteration 8\n",
      "eigen value: [[4.00783542]] \n",
      "eigen_vector: [[-1.00392927]\n",
      " [ 1.        ]]\n",
      "################################\n",
      "iteration 9\n",
      "eigen value: [[4.00391198]] \n",
      "eigen_vector: [[-1.00195886]\n",
      " [ 1.        ]]\n",
      "################################\n",
      "iteration 10\n",
      "eigen value: [[4.00195456]] \n",
      "eigen_vector: [[-1.000978]\n",
      " [ 1.      ]]\n",
      "################################\n",
      "iteration 11\n",
      "eigen value: [[4.00097692]] \n",
      "eigen_vector: [[-1.00048864]\n",
      " [ 1.        ]]\n"
     ]
    },
    {
     "data": {
      "text/plain": [
       "(matrix([[4.00097692]]), matrix([[-1.00048864],\n",
       "         [ 1.        ]]))"
      ]
     },
     "execution_count": 6,
     "metadata": {},
     "output_type": "execute_result"
    }
   ],
   "source": [
    "#Assignment 3 page 14 b\n",
    "p14b = Eigen(5,1,-3,1,3)\n",
    "p14b.calculate()"
   ]
  },
  {
   "cell_type": "code",
   "execution_count": null,
   "metadata": {},
   "outputs": [],
   "source": []
  }
 ],
 "metadata": {
  "kernelspec": {
   "display_name": "Python 3",
   "language": "python",
   "name": "python3"
  },
  "language_info": {
   "codemirror_mode": {
    "name": "ipython",
    "version": 3
   },
   "file_extension": ".py",
   "mimetype": "text/x-python",
   "name": "python",
   "nbconvert_exporter": "python",
   "pygments_lexer": "ipython3",
   "version": "3.7.3"
  }
 },
 "nbformat": 4,
 "nbformat_minor": 2
}
